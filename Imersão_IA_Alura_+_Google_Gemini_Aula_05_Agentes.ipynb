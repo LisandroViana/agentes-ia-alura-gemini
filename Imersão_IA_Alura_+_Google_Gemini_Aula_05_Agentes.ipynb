{
  "nbformat": 4,
  "nbformat_minor": 0,
  "metadata": {
    "colab": {
      "provenance": []
    },
    "kernelspec": {
      "name": "python3",
      "display_name": "Python 3"
    },
    "language_info": {
      "name": "python"
    }
  },
  "cells": [
    {
      "cell_type": "code",
      "source": [
        "%pip -q install google-genai"
      ],
      "metadata": {
        "id": "UCCbECexLk_h"
      },
      "execution_count": 16,
      "outputs": []
    },
    {
      "cell_type": "code",
      "source": [
        "# Configura a API Key do Google Gemini\n",
        "\n",
        "import os\n",
        "from google.colab import userdata\n",
        "\n",
        "os.environ[\"GOOGLE_API_KEY\"] = userdata.get('GOOGLE_API_KEY')"
      ],
      "metadata": {
        "id": "NfCqHo1tLk8P"
      },
      "execution_count": 17,
      "outputs": []
    },
    {
      "cell_type": "code",
      "source": [
        "# Configura o cliente da SDK do Gemini\n",
        "\n",
        "from google import genai\n",
        "\n",
        "client = genai.Client()\n",
        "\n",
        "MODEL_ID = \"gemini-2.0-flash\""
      ],
      "metadata": {
        "id": "bV4w0H5TLk5g"
      },
      "execution_count": 18,
      "outputs": []
    },
    {
      "cell_type": "code",
      "source": [
        "# Pergunta ao Gemini uma informação mais recente que seu conhecimento\n",
        "\n",
        "from IPython.display import HTML, Markdown\n",
        "\n",
        "# Perguntar pro modelo quando é a próxima imersão de IA ###############################################\n",
        "response = client.models.generate_content(\n",
        "    model=MODEL_ID,\n",
        "    contents='Quando é a próxima imersão IA com Google Gemini da Alura?'\n",
        ")\n",
        "\n",
        "# Exibe a resposta na tela\n",
        "display(Markdown(f\"Resposta:\\n {response.text}\"))"
      ],
      "metadata": {
        "id": "HwVP7Xi34Zuw",
        "colab": {
          "base_uri": "https://localhost:8080/",
          "height": 174
        },
        "outputId": "112596e6-4bd4-43a0-e00a-6ec5c77da860"
      },
      "execution_count": 19,
      "outputs": [
        {
          "output_type": "display_data",
          "data": {
            "text/plain": [
              "<IPython.core.display.Markdown object>"
            ],
            "text/markdown": "Resposta:\n Para saber a data exata da próxima Imersão IA com Google Gemini da Alura, o melhor lugar para verificar é diretamente no site da Alura. Você pode encontrar a informação nos seguintes locais:\n\n*   **Página da Imersão IA com Google Gemini:** Procure a página específica da imersão no catálogo de cursos da Alura. Geralmente, as datas das próximas edições são divulgadas ali.\n*   **Calendário de eventos da Alura:** A Alura costuma ter um calendário onde lista os próximos eventos e cursos, incluindo imersões.\n*   **Redes sociais da Alura:** Siga a Alura nas redes sociais (como LinkedIn, Instagram, etc.) para ficar por dentro dos anúncios de novas turmas.\n*   **Contato com a Alura:** Se não encontrar a informação online, você pode entrar em contato com a equipe da Alura através do site deles para perguntar sobre a próxima data."
          },
          "metadata": {}
        }
      ]
    },
    {
      "cell_type": "code",
      "source": [
        "# Pergunta ao Gemini uma informação utilizando a busca do Google como contexto\n",
        "\n",
        "response = client.models.generate_content(\n",
        "    model=MODEL_ID,\n",
        "    contents='Quando é a próxima Imersão IA com Google Gemini da Alura?',\n",
        "    config={\"tools\": [{\"google_search\":{}}]}\n",
        ")\n",
        "\n",
        "# Exibe a resposta na tela\n",
        "display(Markdown(f\"response:\\n {response.text}\"))"
      ],
      "metadata": {
        "id": "yXaZd7iZ4ftw",
        "colab": {
          "base_uri": "https://localhost:8080/",
          "height": 128
        },
        "outputId": "6a587da4-341f-4cd8-fcf1-314ff3689b8d"
      },
      "execution_count": 20,
      "outputs": [
        {
          "output_type": "display_data",
          "data": {
            "text/plain": [
              "<IPython.core.display.Markdown object>"
            ],
            "text/markdown": "response:\n Com base nas informações encontradas, a Alura promoveu algumas edições da Imersão IA com Google Gemini.\n\n*   **Maio de 2025:** Houve uma edição da Imersão IA com Google Gemini, com aulas online entre os dias 12 e 16 de maio.\n*   **Setembro de 2024:** A Imersão Dev com Gemini ocorreu de 2 a 6 de setembro de 2024.\n*   **Abril de 2024:** A Alura e o Google se uniram para uma Imersão em IA com o Google Gemini, oferecendo cinco aulas gratuitas.\n\nPara saber sobre futuras edições, o ideal é acompanhar o site da Alura e suas redes sociais."
          },
          "metadata": {}
        }
      ]
    },
    {
      "cell_type": "code",
      "source": [
        "# Exibe a busca\n",
        "print(f\"Busca realizada: {response.candidates[0].grounding_metadata.web_search_queries}\")\n",
        "# Exibe as URLs nas quais ele se baseou\n",
        "print(f\"Páginas utilizadas na resposta: {', '.join([site.web.title for site in response.candidates[0].grounding_metadata.grounding_chunks])}\")\n",
        "print()\n",
        "display(HTML(response.candidates[0].grounding_metadata.search_entry_point.rendered_content))"
      ],
      "metadata": {
        "id": "xHSNlTd84heJ",
        "colab": {
          "base_uri": "https://localhost:8080/",
          "height": 117
        },
        "outputId": "ff2faedc-8131-40f2-e356-212939eed23d"
      },
      "execution_count": 21,
      "outputs": [
        {
          "output_type": "stream",
          "name": "stdout",
          "text": [
            "Busca realizada: ['Alura Imersão IA Google Gemini', 'próxima Imersão IA com Google Gemini Alura']\n",
            "Páginas utilizadas na resposta: starten.tech, tecmundo.com.br, educacao.mg.gov.br, alura.com.br, youtube.com\n",
            "\n"
          ]
        },
        {
          "output_type": "display_data",
          "data": {
            "text/plain": [
              "<IPython.core.display.HTML object>"
            ],
            "text/html": [
              "<style>\n",
              ".container {\n",
              "  align-items: center;\n",
              "  border-radius: 8px;\n",
              "  display: flex;\n",
              "  font-family: Google Sans, Roboto, sans-serif;\n",
              "  font-size: 14px;\n",
              "  line-height: 20px;\n",
              "  padding: 8px 12px;\n",
              "}\n",
              ".chip {\n",
              "  display: inline-block;\n",
              "  border: solid 1px;\n",
              "  border-radius: 16px;\n",
              "  min-width: 14px;\n",
              "  padding: 5px 16px;\n",
              "  text-align: center;\n",
              "  user-select: none;\n",
              "  margin: 0 8px;\n",
              "  -webkit-tap-highlight-color: transparent;\n",
              "}\n",
              ".carousel {\n",
              "  overflow: auto;\n",
              "  scrollbar-width: none;\n",
              "  white-space: nowrap;\n",
              "  margin-right: -12px;\n",
              "}\n",
              ".headline {\n",
              "  display: flex;\n",
              "  margin-right: 4px;\n",
              "}\n",
              ".gradient-container {\n",
              "  position: relative;\n",
              "}\n",
              ".gradient {\n",
              "  position: absolute;\n",
              "  transform: translate(3px, -9px);\n",
              "  height: 36px;\n",
              "  width: 9px;\n",
              "}\n",
              "@media (prefers-color-scheme: light) {\n",
              "  .container {\n",
              "    background-color: #fafafa;\n",
              "    box-shadow: 0 0 0 1px #0000000f;\n",
              "  }\n",
              "  .headline-label {\n",
              "    color: #1f1f1f;\n",
              "  }\n",
              "  .chip {\n",
              "    background-color: #ffffff;\n",
              "    border-color: #d2d2d2;\n",
              "    color: #5e5e5e;\n",
              "    text-decoration: none;\n",
              "  }\n",
              "  .chip:hover {\n",
              "    background-color: #f2f2f2;\n",
              "  }\n",
              "  .chip:focus {\n",
              "    background-color: #f2f2f2;\n",
              "  }\n",
              "  .chip:active {\n",
              "    background-color: #d8d8d8;\n",
              "    border-color: #b6b6b6;\n",
              "  }\n",
              "  .logo-dark {\n",
              "    display: none;\n",
              "  }\n",
              "  .gradient {\n",
              "    background: linear-gradient(90deg, #fafafa 15%, #fafafa00 100%);\n",
              "  }\n",
              "}\n",
              "@media (prefers-color-scheme: dark) {\n",
              "  .container {\n",
              "    background-color: #1f1f1f;\n",
              "    box-shadow: 0 0 0 1px #ffffff26;\n",
              "  }\n",
              "  .headline-label {\n",
              "    color: #fff;\n",
              "  }\n",
              "  .chip {\n",
              "    background-color: #2c2c2c;\n",
              "    border-color: #3c4043;\n",
              "    color: #fff;\n",
              "    text-decoration: none;\n",
              "  }\n",
              "  .chip:hover {\n",
              "    background-color: #353536;\n",
              "  }\n",
              "  .chip:focus {\n",
              "    background-color: #353536;\n",
              "  }\n",
              "  .chip:active {\n",
              "    background-color: #464849;\n",
              "    border-color: #53575b;\n",
              "  }\n",
              "  .logo-light {\n",
              "    display: none;\n",
              "  }\n",
              "  .gradient {\n",
              "    background: linear-gradient(90deg, #1f1f1f 15%, #1f1f1f00 100%);\n",
              "  }\n",
              "}\n",
              "</style>\n",
              "<div class=\"container\">\n",
              "  <div class=\"headline\">\n",
              "    <svg class=\"logo-light\" width=\"18\" height=\"18\" viewBox=\"9 9 35 35\" fill=\"none\" xmlns=\"http://www.w3.org/2000/svg\">\n",
              "      <path fill-rule=\"evenodd\" clip-rule=\"evenodd\" d=\"M42.8622 27.0064C42.8622 25.7839 42.7525 24.6084 42.5487 23.4799H26.3109V30.1568H35.5897C35.1821 32.3041 33.9596 34.1222 32.1258 35.3448V39.6864H37.7213C40.9814 36.677 42.8622 32.2571 42.8622 27.0064V27.0064Z\" fill=\"#4285F4\"/>\n",
              "      <path fill-rule=\"evenodd\" clip-rule=\"evenodd\" d=\"M26.3109 43.8555C30.9659 43.8555 34.8687 42.3195 37.7213 39.6863L32.1258 35.3447C30.5898 36.3792 28.6306 37.0061 26.3109 37.0061C21.8282 37.0061 18.0195 33.9811 16.6559 29.906H10.9194V34.3573C13.7563 39.9841 19.5712 43.8555 26.3109 43.8555V43.8555Z\" fill=\"#34A853\"/>\n",
              "      <path fill-rule=\"evenodd\" clip-rule=\"evenodd\" d=\"M16.6559 29.8904C16.3111 28.8559 16.1074 27.7588 16.1074 26.6146C16.1074 25.4704 16.3111 24.3733 16.6559 23.3388V18.8875H10.9194C9.74388 21.2072 9.06992 23.8247 9.06992 26.6146C9.06992 29.4045 9.74388 32.022 10.9194 34.3417L15.3864 30.8621L16.6559 29.8904V29.8904Z\" fill=\"#FBBC05\"/>\n",
              "      <path fill-rule=\"evenodd\" clip-rule=\"evenodd\" d=\"M26.3109 16.2386C28.85 16.2386 31.107 17.1164 32.9095 18.8091L37.8466 13.8719C34.853 11.082 30.9659 9.3736 26.3109 9.3736C19.5712 9.3736 13.7563 13.245 10.9194 18.8875L16.6559 23.3388C18.0195 19.2636 21.8282 16.2386 26.3109 16.2386V16.2386Z\" fill=\"#EA4335\"/>\n",
              "    </svg>\n",
              "    <svg class=\"logo-dark\" width=\"18\" height=\"18\" viewBox=\"0 0 48 48\" xmlns=\"http://www.w3.org/2000/svg\">\n",
              "      <circle cx=\"24\" cy=\"23\" fill=\"#FFF\" r=\"22\"/>\n",
              "      <path d=\"M33.76 34.26c2.75-2.56 4.49-6.37 4.49-11.26 0-.89-.08-1.84-.29-3H24.01v5.99h8.03c-.4 2.02-1.5 3.56-3.07 4.56v.75l3.91 2.97h.88z\" fill=\"#4285F4\"/>\n",
              "      <path d=\"M15.58 25.77A8.845 8.845 0 0 0 24 31.86c1.92 0 3.62-.46 4.97-1.31l4.79 3.71C31.14 36.7 27.65 38 24 38c-5.93 0-11.01-3.4-13.45-8.36l.17-1.01 4.06-2.85h.8z\" fill=\"#34A853\"/>\n",
              "      <path d=\"M15.59 20.21a8.864 8.864 0 0 0 0 5.58l-5.03 3.86c-.98-2-1.53-4.25-1.53-6.64 0-2.39.55-4.64 1.53-6.64l1-.22 3.81 2.98.22 1.08z\" fill=\"#FBBC05\"/>\n",
              "      <path d=\"M24 14.14c2.11 0 4.02.75 5.52 1.98l4.36-4.36C31.22 9.43 27.81 8 24 8c-5.93 0-11.01 3.4-13.45 8.36l5.03 3.85A8.86 8.86 0 0 1 24 14.14z\" fill=\"#EA4335\"/>\n",
              "    </svg>\n",
              "    <div class=\"gradient-container\"><div class=\"gradient\"></div></div>\n",
              "  </div>\n",
              "  <div class=\"carousel\">\n",
              "    <a class=\"chip\" href=\"https://vertexaisearch.cloud.google.com/grounding-api-redirect/AbF9wXHMt1DKH0GogDSk-cI5yBTuerXoc45F8_MCcZOV9gI-3_k-736OgAoRcFa3EPKn2EjvHKks9zauCrM-FVHHx-Q6qS4uhMZPng49E6ajGLR_ze7SB5Xy8sDTVkv7nYTc8rXOD6KNSNmEfNl4md52SuZaaKEMIN3BvbvPXQhYDPFiJBaE82XOZF6CD9ZVvQEN9vAnJ4LpCXRFPQC5pQ08EXdnmH-PnC1eabcie0OVh-nN5XHVtU8KG-Q=\">próxima Imersão IA com Google Gemini Alura</a>\n",
              "    <a class=\"chip\" href=\"https://vertexaisearch.cloud.google.com/grounding-api-redirect/AbF9wXGJBChv4_zEx7whHBwAOlk4bjF8SaBJ_Lum78EAIYyJWaeviXZMp05ywrktcZ0z3nbaSVxUIPPXvrHnoSBBmYibHQNphZgevMZjJzwFU_2FJj3mkrxIIbyhEI3Ded5naA6lTbB_Wtd54qANkApelshILQlVFsce0rcoD04QY9G-ehnOkJfHAuA0_QR585higo5VGbNwF4sKEXuL1NT_NT6dJNCFnt0=\">Alura Imersão IA Google Gemini</a>\n",
              "  </div>\n",
              "</div>\n"
            ]
          },
          "metadata": {}
        }
      ]
    },
    {
      "cell_type": "code",
      "source": [
        "# Instalar Framework ADK de agentes do Google ################################################\n",
        "%pip install google-adk -q"
      ],
      "metadata": {
        "id": "hvZ3UnPI4jhJ"
      },
      "execution_count": 22,
      "outputs": []
    },
    {
      "cell_type": "code",
      "execution_count": 23,
      "metadata": {
        "id": "aePV2bdfDeoW"
      },
      "outputs": [],
      "source": [
        "from google.adk.agents import Agent\n",
        "from google.adk.runners import Runner\n",
        "from google.adk.sessions import InMemorySessionService\n",
        "from google.adk.tools import google_search\n",
        "from google.genai import types  # Para criar conteúdos (Content e Part)\n",
        "from datetime import date\n",
        "import textwrap # Para formatar melhor a saída de texto\n",
        "from IPython.display import display, Markdown # Para exibir texto formatado no Colab\n",
        "import requests # Para fazer requisições HTTP\n",
        "import warnings\n",
        "\n",
        "warnings.filterwarnings(\"ignore\")"
      ]
    },
    {
      "cell_type": "code",
      "source": [
        "# Função auxiliar que envia uma mensagem para um agente via Runner e retorna a resposta final\n",
        "def call_agent(agent: Agent, message_text: str) -> str:\n",
        "    # Cria um serviço de sessão em memória\n",
        "    session_service = InMemorySessionService()\n",
        "    # Cria uma nova sessão (você pode personalizar os IDs conforme necessário)\n",
        "    session = session_service.create_session(app_name=agent.name, user_id=\"user1\", session_id=\"session1\")\n",
        "    # Cria um Runner para o agente\n",
        "    runner = Runner(agent=agent, app_name=agent.name, session_service=session_service)\n",
        "    # Cria o conteúdo da mensagem de entrada\n",
        "    content = types.Content(role=\"user\", parts=[types.Part(text=message_text)])\n",
        "\n",
        "    final_response = \"\"\n",
        "    # Itera assincronamente pelos eventos retornados durante a execução do agente\n",
        "    for event in runner.run(user_id=\"user1\", session_id=\"session1\", new_message=content):\n",
        "        if event.is_final_response():\n",
        "          for part in event.content.parts:\n",
        "            if part.text is not None:\n",
        "              final_response += part.text\n",
        "              final_response += \"\\n\"\n",
        "    return final_response"
      ],
      "metadata": {
        "id": "_xP4lWhsS5ko"
      },
      "execution_count": 24,
      "outputs": []
    },
    {
      "cell_type": "code",
      "source": [
        "# Função auxiliar para exibir texto formatado em Markdown no Colab\n",
        "def to_markdown(text):\n",
        "  text = text.replace('•', '  *')\n",
        "  return Markdown(textwrap.indent(text, '> ', predicate=lambda _: True))"
      ],
      "metadata": {
        "id": "8dosiodaxfFR"
      },
      "execution_count": 25,
      "outputs": []
    },
    {
      "cell_type": "code",
      "source": [
        "##########################################\n",
        "# --- Agente 1: Buscador de Notícias --- #\n",
        "##########################################\n",
        "def agente_buscador(topico, data_de_hoje):\n",
        "  buscador = Agent(\n",
        "      name = \"agente_buscador\",\n",
        "      model=\"gemini-2.0-flash\",\n",
        "      description=\"Agente que busca informações no Google\",\n",
        "      tools=[google_search],\n",
        "      instruction=\"\"\"\n",
        "      Você é um assistente de pesquisa. A sua tarefa é usar a ferramenta de busca do google(google_search) para recuperar as últimas noticias de lançamentos muito relevantes sobre o tópico abaixo.\n",
        "      foque em no máximo 5 lançamentos relevantes, com base na quantidade e entusiasmo das notícias sobre ele.\n",
        "      Se um tema tiver poucas notícias ou reações entusiasnmadas, é possível que ele não seja tão relevante assim e pode ser substituido por outro que tenha mais.\n",
        "      Esses lançamentos relevantes devem ser substituidos por outro que tenha mais.\n",
        "      Esses lançamentos relevantes devem ser atuais, de no máximo 1 mês antes da data de hoje.\n",
        "      \"\"\"\n",
        "  )\n",
        "  entrada_do_agente_buscador = f\"Tópico: {topico}\\nData de hoje: {data_de_hoje}\"\n",
        "  lancamentos = call_agent(buscador, entrada_do_agente_buscador)\n",
        "  return lancamentos"
      ],
      "metadata": {
        "id": "o8bqIfi_DyH8"
      },
      "execution_count": 26,
      "outputs": []
    },
    {
      "cell_type": "code",
      "source": [
        "################################################\n",
        "# --- Agente 2: Planejador de posts --- #\n",
        "################################################\n",
        "def agente_planejador(topico, lancamentos_buscados):\n",
        "    planejador = Agent(\n",
        "        name=\"agente_planejador\",\n",
        "        model=\"gemini-2.0-flash\",\n",
        "        # Inserir as instruções do Agente Planejador #################################################\n",
        "        instruction=\"\"\"\n",
        "        Você é um planejador de contùdo, especialista em redes sociais. com base na lista de lançamentos mais recentes e relevantes buscador, você deve:\n",
        "        usar a ferramenta de busca do Google (google_search) para criar um plano sobre quais são os pontos mais relevantes que  poderíamos abordar em um post sobre\n",
        "        cada um deles. Você também pode usar o (google_search) para encontrar mais informações sobre os temas e aprofundar. ao final, você irá escolher o tema mais\n",
        "        relevante entre eles  com base nas suas pesquisas e retornar esse tema, seus pontos mais relevantes, e um plano com os assuntos a serem abordados no post que será\n",
        "        escrito posteriormente.\n",
        "        \"\"\",\n",
        "        description=\"Agente que planeja posts\",\n",
        "        tools=[google_search]\n",
        "    )\n",
        "\n",
        "    entrada_do_agente_planejador = f\"Tópico:{topico}\\nLançamentos buscados: {lancamentos_buscados}\"\n",
        "    # Executa o agente\n",
        "    plano_do_post = call_agent(planejador, entrada_do_agente_planejador)\n",
        "    return plano_do_post"
      ],
      "metadata": {
        "id": "y3VO1uo5_ghO"
      },
      "execution_count": 27,
      "outputs": []
    },
    {
      "cell_type": "code",
      "source": [
        "######################################\n",
        "# --- Agente 3: Redator do Post --- #\n",
        "######################################\n",
        "def agente_redator(topico, plano_de_post):\n",
        "    redator = Agent(\n",
        "        name=\"agente_redator\",\n",
        "        model=\"gemini-2.0-flash\",\n",
        "        instruction=\"\"\"\n",
        "            Você é um Redator Criativo especializado em criar posts virais para redes sociais.\n",
        "            Você escreve posts para a empresa Alura, a maior escola online de tecnologia do Brasil.\n",
        "            Utilize o tema fornecido no plano de post e os pontos mais relevantes fornecidos e, com base nisso,\n",
        "            escreva um rascunho de post para Instagram sobre o tema indicado.\n",
        "            O post deve ser engajador, informativo, com linguagem simples e incluir 2 a 4 hashtags no final.\n",
        "            \"\"\",\n",
        "        description=\"Agente redator de posts engajadores para Instagram\"\n",
        "    )\n",
        "    entrada_do_agente_redator = f\"Tópico: {topico}\\nPlano de post: {plano_de_post}\"\n",
        "    # Executa o agente\n",
        "    rascunho = call_agent(redator, entrada_do_agente_redator)\n",
        "    return rascunho"
      ],
      "metadata": {
        "id": "uOqlg2TRLVh1"
      },
      "execution_count": 28,
      "outputs": []
    },
    {
      "cell_type": "code",
      "source": [
        "##########################################\n",
        "# --- Agente 4: Revisor de Qualidade --- #\n",
        "##########################################\n",
        "def agente_revisor(topico, rascunho_gerado):\n",
        "    revisor = Agent(\n",
        "        name=\"agente_revisor\",\n",
        "        model=\"gemini-2.0-flash\",\n",
        "        instruction=\"\"\"\n",
        "            Você é um Editor e Revisor de Conteúdo meticuloso, especializado em posts para redes sociais, com foco no Instagram.\n",
        "            Por ter um público jovem, entre 18 e 30 anos, use um tom de escrita adequado.\n",
        "            Revise o rascunho de post de Instagram abaixo sobre o tópico indicado, verificando clareza, concisão, correção e tom.\n",
        "            Se o rascunho estiver bom, responda apenas 'O rascunho está ótimo e pronto para publicar!'.\n",
        "            Caso haja problemas, aponte-os e sugira melhorias.\n",
        "            \"\"\",\n",
        "        description=\"Agente revisor de post para redes sociais.\"\n",
        "    )\n",
        "    entrada_do_agente_revisor = f\"Tópico: {topico}\\nRascunho: {rascunho_gerado}\"\n",
        "    # Executa o agente\n",
        "    texto_revisado = call_agent(revisor, entrada_do_agente_revisor)\n",
        "    return texto_revisado"
      ],
      "metadata": {
        "id": "_aTb1SdkLeT6"
      },
      "execution_count": 29,
      "outputs": []
    },
    {
      "cell_type": "code",
      "source": [
        "data_de_hoje = date.today().strftime(\"%d/%m/%Y\")\n",
        "\n",
        "print(\"🚀 Iniciando o Sistema de Criação de Posts para Instagram com 4 Agentes 🚀\")\n",
        "\n",
        "# --- Obter o Tópico do Usuário ---\n",
        "topico = input(\"❓ Por favor, digite o TÓPICO sobre o qual você quer criar o post de tendências: \")\n",
        "\n",
        "# Inserir lógica do sistema de agentes ################################################\n",
        "if not topico:\n",
        "  print(\" Você esqueceu de digitar o tópico!\")\n",
        "else:\n",
        "  print(f\" Criando tópico: {topico}\")\n",
        "\n",
        "  lancamentos_buscados = agente_buscador(topico, data_de_hoje)\n",
        "  print(\"\\n__________Resultado do primeiro Agente__________\\n\")\n",
        "  display(to_markdown(lancamentos_buscados))\n",
        "  print(\"-----------------------------------------------------\")\n",
        "\n",
        "  plano_de_post = agente_planejador(topico, lancamentos_buscados)\n",
        "  print(\"\\n__________Resultado do Segundo Agente__________\\n\")\n",
        "  display(to_markdown(plano_de_post))\n",
        "  print(\"-----------------------------------------------------\")\n",
        "\n",
        "  rascunho_gerado = agente_redator(topico, plano_de_post)\n",
        "  print(\"\\n__________Resultado do Terceiro Agente__________\\n\")\n",
        "  display(to_markdown(rascunho_gerado))\n",
        "  print(\"-----------------------------------------------------\")\n",
        "\n",
        "  post_fianl = agente_revisor(topico, rascunho_gerado)\n",
        "  print(\"\\n__________Resultado do Quarto Agente__________\\n\")\n",
        "  display(to_markdown(post_fianl))\n",
        "  print(\"-----------------------------------------------------\")"
      ],
      "metadata": {
        "id": "630ummxz4myx",
        "colab": {
          "base_uri": "https://localhost:8080/",
          "height": 1000
        },
        "outputId": "d5c150ff-0c50-43fa-b511-69b6a0324ee6"
      },
      "execution_count": 30,
      "outputs": [
        {
          "output_type": "stream",
          "name": "stdout",
          "text": [
            "🚀 Iniciando o Sistema de Criação de Posts para Instagram com 4 Agentes 🚀\n",
            "❓ Por favor, digite o TÓPICO sobre o qual você quer criar o post de tendências: Agente de IA\n",
            " Criando tópico: Agente de IA\n",
            "\n",
            "__________Resultado do primeiro Agente__________\n",
            "\n"
          ]
        },
        {
          "output_type": "display_data",
          "data": {
            "text/plain": [
              "<IPython.core.display.Markdown object>"
            ],
            "text/markdown": "> Aqui estão alguns lançamentos recentes e relevantes no campo de Agentes de IA, com foco nos últimos meses:\n> \n> \n> Com base nas notícias mais recentes, aqui estão alguns dos lançamentos e desenvolvimentos mais notáveis no campo de Agentes de IA, focando nos últimos meses:\n> \n> 1.  **Avanços e Aplicações Práticas de Agentes de IA:** Agentes de IA estão combinando LLMs (Large Language Models) com acesso a ferramentas externas (APIs, motores de busca, executores de código) e sistemas de memória para resolver problemas de forma autônoma. Aplicações práticas incluem pesquisa acadêmica e atendimento ao cliente.\n> 2.  **IBM e a Orquestração de Agentes:** A IBM anunciou atualizações no watsonx Orchestrate durante a conferência IBM THINK, com ferramentas para integrar, customizar e implantar agentes pré-construídos para áreas como RH, vendas e compras, facilitando a orquestração de projetos complexos.\n> 3.  **Agent.ai:** Uma nova plataforma que se posiciona como uma rede profissional para agentes de inteligência artificial, permitindo que empresas descubram, conectem-se e contratem agentes de IA para otimizar processos.\n> 4.  **Codex da OpenAI:** A OpenAI apresentou o Codex, um novo agente de codificação que promete revolucionar tarefas de engenharia de software, gerando código mais limpo e seguindo instruções de forma precisa, o que pode reduzir custos e aumentar a eficiência em projetos de desenvolvimento de software.\n> 5.  **Crescimento do Mercado de Agentes de IA:** O mercado global de agentes de IA deverá atingir US$ 52,6 bilhões até 2030, impulsionado pela necessidade de automação eficiente e decisões mais rápidas e fundamentadas.\n> \n> Esses lançamentos e desenvolvimentos indicam um rápido avanço na área de Agentes de IA, com potencial para transformar diversos setores e otimizar processos de negócios.\n> \n"
          },
          "metadata": {}
        },
        {
          "output_type": "stream",
          "name": "stdout",
          "text": [
            "-----------------------------------------------------\n",
            "\n",
            "__________Resultado do Segundo Agente__________\n",
            "\n"
          ]
        },
        {
          "output_type": "display_data",
          "data": {
            "text/plain": [
              "<IPython.core.display.Markdown object>"
            ],
            "text/markdown": "> Ok, com base nos lançamentos de Agentes de IA que você me forneceu, vou criar um plano de conteúdo para cada um deles, identificar o mais relevante e, em seguida, detalhar um plano de postagem para esse tema específico.\n> \n> Aqui estão os temas e os pontos relevantes que podemos abordar em cada post:\n> \n> 1.  **Avanços e Aplicações Práticas de Agentes de IA:**\n>     *   **Pontos Relevantes:**\n>         *   Combinação de LLMs com ferramentas externas (APIs, motores de busca, executores de código).\n>         *   Capacidade de resolver problemas de forma autônoma.\n>         *   Exemplos de aplicações em pesquisa acadêmica e atendimento ao cliente.\n>     *   **Possíveis Tópicos para o Post:**\n>         *   Como os agentes de IA estão evoluindo para além dos LLMs.\n>         *   Casos de uso práticos de agentes de IA em diferentes setores.\n>         *   O impacto da autonomia dos agentes de IA na produtividade.\n> 2.  **IBM e a Orquestração de Agentes:**\n>     *   **Pontos Relevantes:**\n>         *   Atualizações no watsonx Orchestrate.\n>         *   Ferramentas para integrar, customizar e implantar agentes pré-construídos.\n>         *   Foco em áreas como RH, vendas e compras.\n>         *   Facilitação da orquestração de projetos complexos.\n>     *   **Possíveis Tópicos para o Post:**\n>         *   O que há de novo no watsonx Orchestrate da IBM.\n>         *   Como a orquestração de agentes pode otimizar processos de negócios.\n>         *   Exemplos de uso do watsonx Orchestrate em RH, vendas e compras.\n> 3.  **Agent.ai:**\n>     *   **Pontos Relevantes:**\n>         *   Plataforma como uma rede profissional para agentes de IA.\n>         *   Permite que empresas descubram, conectem-se e contratem agentes de IA.\n>         *   Otimização de processos através da contratação de agentes de IA.\n>     *   **Possíveis Tópicos para o Post:**\n>         *   O que é a Agent.ai e como ela funciona.\n>         *   Como encontrar e contratar agentes de IA para sua empresa.\n>         *   O futuro do trabalho com a ascensão dos agentes de IA.\n> 4.  **Codex da OpenAI:**\n>     *   **Pontos Relevantes:**\n>         *   Novo agente de codificação da OpenAI.\n>         *   Geração de código mais limpo e preciso.\n>         *   Potencial para reduzir custos e aumentar a eficiência em projetos de desenvolvimento de software.\n>     *   **Possíveis Tópicos para o Post:**\n>         *   Como o Codex da OpenAI está revolucionando a engenharia de software.\n>         *   Exemplos de como o Codex pode melhorar a qualidade do código.\n>         *   O impacto do Codex no futuro dos desenvolvedores de software.\n> 5.  **Crescimento do Mercado de Agentes de IA:**\n>     *   **Pontos Relevantes:**\n>         *   Mercado global deverá atingir US$ 52,6 bilhões até 2030.\n>         *   Impulsionado pela necessidade de automação eficiente e decisões mais rápidas e fundamentadas.\n>     *   **Possíveis Tópicos para o Post:**\n>         *   Por que o mercado de agentes de IA está crescendo tão rapidamente.\n>         *   Os principais impulsionadores do crescimento do mercado de agentes de IA.\n>         *   Oportunidades de investimento no mercado de agentes de IA.\n> \n> **Qual tema escolher?**\n> \n> Considerando o potencial de impacto e interesse do público, o tema mais relevante para um post é o **Codex da OpenAI**. A capacidade de gerar código de forma mais eficiente e precisa é um avanço significativo que pode impactar diretamente desenvolvedores, empresas de software e a indústria de tecnologia como um todo.\n> \n> Agora, vamos criar um plano detalhado para um post sobre o Codex da OpenAI:\n> \n> **Plano de Postagem: Codex da OpenAI - O Agente de Codificação que Está Transformando a Engenharia de Software**\n> \n> 1.  **Título:**\n>     *   Opções:\n>         *   \"Codex da OpenAI: O Futuro da Codificação Chegou?\"\n>         *   \"Como o Codex da OpenAI Está Revolucionando a Engenharia de Software\"\n>         *   \"Codex: O Agente de IA da OpenAI Que Escreve Código Por Você\"\n> 2.  **Introdução (Chamada):**\n>     *   O que é o Codex da OpenAI e por que ele é importante.\n>     *   Declaração de como o Codex está transformando a engenharia de software.\n>     *   Uma pergunta que prenda a atenção do leitor (ex: \"Imagine um mundo onde o código é gerado de forma mais rápida e eficiente. Com o Codex, esse futuro é agora!\")\n> 3.  **O Que é o Codex?**\n>     *   Explicação detalhada do que é o Codex e como ele funciona.\n>     *   Como ele utiliza a IA para gerar código a partir de linguagem natural.\n>     *   Diferenciação do Codex de outras ferramentas de geração de código.\n> 4.  **Benefícios e Vantagens do Codex:**\n>     *   Geração de código mais limpo e preciso.\n>     *   Redução de custos em projetos de desenvolvimento de software.\n>     *   Aumento da eficiência e produtividade dos desenvolvedores.\n>     *   Possibilidade de automatizar tarefas repetitivas de codificação.\n> 5.  **Exemplos de Uso do Codex:**\n>     *   Casos de uso práticos do Codex em diferentes tipos de projetos de software.\n>     *   Exemplos de código gerado pelo Codex.\n>     *   Depoimentos ou estudos de caso de empresas que já estão utilizando o Codex.\n> 6.  **O Impacto no Futuro dos Desenvolvedores:**\n>     *   Discussão sobre como o Codex pode mudar o papel dos desenvolvedores.\n>     *   A necessidade de os desenvolvedores se adaptarem a novas ferramentas e tecnologias de IA.\n>     *   Oportunidades para os desenvolvedores se concentrarem em tarefas mais criativas e estratégicas.\n> 7.  **Como Começar a Usar o Codex:**\n>     *   Informações sobre como acessar e começar a usar o Codex.\n>     *   Recursos e tutoriais para aprender a usar o Codex de forma eficaz.\n>     *   Dicas e melhores práticas para obter o máximo do Codex.\n> 8.  **Conclusão (Chamada para Ação):**\n>     *   Reafirmação do impacto do Codex na engenharia de software.\n>     *   Incentivo para os leitores experimentarem o Codex e explorarem seu potencial.\n>     *   Convite para compartilhar opiniões e experiências nos comentários.\n> 9.  **Elementos Visuais:**\n>     *   Imagens do Codex em ação.\n>     *   Gráficos mostrando a eficiência do Codex em comparação com outras ferramentas.\n>     *   Vídeos demonstrativos do Codex gerando código.\n> \n> Para refinar ainda mais este plano, farei algumas pesquisas no Google para coletar informações mais recentes e relevantes sobre o Codex da OpenAI.\n> \n> Com as informações adicionais da pesquisa no Google, podemos refinar ainda mais o plano de postagem sobre o Codex da OpenAI. Aqui está o plano atualizado:\n> \n> **Plano de Postagem: Codex da OpenAI - O Agente de Codificação que Está Transformando a Engenharia de Software (Atualizado)**\n> \n> 1.  **Título:**\n>     *   Opções:\n>         *   \"Codex da OpenAI: O Futuro da Codificação Chegou?\"\n>         *   \"Como o Codex da OpenAI Está Revolucionando a Engenharia de Software\"\n>         *   \"Codex: O Agente de IA da OpenAI Que Escreve Código Por Você\"\n> 2.  **Introdução (Chamada):**\n>     *   O que é o Codex da OpenAI e por que ele é importante.\n>     *   Declaração de como o Codex está transformando a engenharia de software.\n>     *   Uma pergunta que prenda a atenção do leitor (ex: \"Imagine um mundo onde o código é gerado de forma mais rápida e eficiente. Com o Codex, esse futuro é agora!\")\n> 3.  **O Que é o Codex?**\n>     *   Explicação detalhada do que é o Codex e como ele funciona.\n>     *   Como ele utiliza a IA para gerar código a partir de linguagem natural.\n>     *   Diferenciação do Codex de outras ferramentas de geração de código.\n>     *   Mencionar que o Codex é uma versão especializada do modelo o3 da OpenAI, ajustada para fluxos de trabalho de engenharia.\n>     *   Explicar que o Codex pode ser acessado dentro do ChatGPT para usuários Pro, Team e Enterprise.\n> 4.  **Benefícios e Vantagens do Codex:**\n>     *   Geração de código mais limpo e preciso.\n>     *   Redução de custos em projetos de desenvolvimento de software.\n>     *   Aumento da eficiência e produtividade dos desenvolvedores.\n>     *   Possibilidade de automatizar tarefas repetitivas de codificação.\n>     *   Capacidade de trabalhar em múltiplas tarefas simultaneamente (escrever código, corrigir bugs, executar testes).\n>     *   Priorização da segurança e transparência (opera em containers isolados, sem acesso à internet).\n> 5.  **Exemplos de Uso do Codex:**\n>     *   Casos de uso práticos do Codex em diferentes tipos de projetos de software.\n>     *   Exemplos de código gerado pelo Codex.\n>     *   **Exemplos específicos:**\n>         *   Correção de erros de digitação e aplicação de correções básicas.\n>         *   Explicação de bases de código complexas.\n>         *   Identificação e resolução de bugs.\n>         *   Aceleração do desenvolvimento (configuração de scaffolding de projetos).\n>         *   Revisão de workflows (checagem de pull requests gerados por IA).\n>     *   Depoimentos ou estudos de caso de empresas que já estão utilizando o Codex (Cisco, Temporal, Superhuman - mencionadas em algumas fontes).\n> 6.  **O Impacto no Futuro dos Desenvolvedores:**\n>     *   Discussão sobre como o Codex pode mudar o papel dos desenvolvedores.\n>     *   A necessidade de os desenvolvedores se adaptarem a novas ferramentas e tecnologias de IA.\n>     *   Oportunidades para os desenvolvedores se concentrarem em tarefas mais criativas e estratégicas.\n> 7.  **Como Começar a Usar o Codex:**\n>     *   Informações sobre como acessar e começar a usar o Codex.\n>     *   Recursos e tutoriais para aprender a usar o Codex de forma eficaz.\n>     *   Dicas e melhores práticas para obter o máximo do Codex.\n>     *   **Passos:**\n>         *   Acessar o ChatGPT.\n>         *   Localizar o Codex na barra lateral (disponível para usuários Pro, Team e Enterprise).\n>         *   Autenticação de múltiplos fatores.\n>     *   Mencionar a existência do Codex CLI (ferramenta open-source para uso no terminal local).\n> 8.  **Limitações e Considerações:**\n>     *   O Codex ainda requer revisão manual do código gerado.\n>     *   Pode ter limitações com prompts complexos.\n> 9.  **Conclusão (Chamada para Ação):**\n>     *   Reafirmação do impacto do Codex na engenharia de software.\n>     *   Incentivo para os leitores experimentarem o Codex e explorarem seu potencial.\n>     *   Convite para compartilhar opiniões e experiências nos comentários.\n> 10. **Elementos Visuais:**\n>     *   Imagens do Codex em ação.\n>     *   Gráficos mostrando a eficiência do Codex em comparação com outras ferramentas.\n>     *   Vídeos demonstrativos do Codex gerando código.\n>     *   Screenshots da interface do Codex no ChatGPT.\n> \n> Este plano detalhado fornecerá uma base sólida para a criação de um post informativo e envolvente sobre o Codex da OpenAI.\n> \n"
          },
          "metadata": {}
        },
        {
          "output_type": "stream",
          "name": "stdout",
          "text": [
            "-----------------------------------------------------\n",
            "\n",
            "__________Resultado do Terceiro Agente__________\n",
            "\n"
          ]
        },
        {
          "output_type": "display_data",
          "data": {
            "text/plain": [
              "<IPython.core.display.Markdown object>"
            ],
            "text/markdown": "> 🚀 Prepare-se para o futuro da programação! 🚀\n> \n> Já ouviu falar do Codex da OpenAI? 🤯 Ele não é só mais uma ferramenta, é um agente de codificação que está transformando a engenharia de software! 🤖✨\n> \n> 🔍 O que é o Codex?\n> É uma versão turbinada do modelo o3 da OpenAI, feita sob medida para quem trabalha com código. Ele usa IA para gerar código a partir da linguagem natural! 🤯\n> Usuários Pro, Team e Enterprise podem acessá-lo dentro do ChatGPT.\n> \n> 💡 Por que ele é tão incrível?\n> ✅ Código mais limpo e preciso\n> ✅ Redução de custos nos seus projetos\n> ✅ Aumento da eficiência e produtividade\n> \n> 💻 Quer exemplos?\n> ✅ Correção de erros\n> ✅ Explicação de códigos complexos\n> ✅ Identificação e resolução de bugs\n> \n> E aí, preparado(a) para experimentar o poder do Codex? 🤩 Conta pra gente nos comentários o que você acha dessa revolução! 👇\n> \n> #OpenAI #Codex #InteligenciaArtificial #Alura\n> \n"
          },
          "metadata": {}
        },
        {
          "output_type": "stream",
          "name": "stdout",
          "text": [
            "-----------------------------------------------------\n",
            "\n",
            "__________Resultado do Quarto Agente__________\n",
            "\n"
          ]
        },
        {
          "output_type": "display_data",
          "data": {
            "text/plain": [
              "<IPython.core.display.Markdown object>"
            ],
            "text/markdown": "> O rascunho está bom, mas podemos deixá-lo ainda mais atraente para o público do Instagram com algumas pequenas mudanças:\n> \n> Problemas e Sugestões:\n> \n> Emojis: Usar emojis em excesso pode distrair. Vamos equilibrar um pouco.\n> Hashtags: Adicionar algumas hashtags mais específicas pode aumentar o alcance.\n> Chamada para ação: Podemos deixar a chamada para ação mais direta e envolvente.\n> \n> Rascunho Revisado:\n> \n> 🚀 Prontos para o futuro da programação? 🚀\n> \n> Já ouviram falar do Codex da OpenAI? 🤯 Ele não é só uma ferramenta, é um agente de codificação que está transformando a engenharia de software! 🤖\n> \n> 🔍 O que é o Codex?\n> É uma versão turbinada do modelo GPT-3 da OpenAI, feita sob medida para quem trabalha com código. Ele usa IA para gerar código a partir da linguagem natural! 🤯 Usuários Pro, Team e Enterprise podem acessá-lo dentro do ChatGPT.\n> \n> 💡 Por que ele é tão incrível?\n> ✅ Código mais limpo e preciso\n> ✅ Redução de custos nos seus projetos\n> ✅ Aumento da eficiência e produtividade\n> \n> 💻 Quer exemplos?\n> ✅ Correção de erros\n> ✅ Explicação de códigos complexos\n> ✅ Identificação e resolução de bugs\n> \n> E aí, preparados para experimentar o poder do Codex? 🤩 Conta pra gente nos comentários como você usaria essa ferramenta no seu dia a dia! 👇\n> \n> #OpenAI #Codex #InteligenciaArtificial #DesenvolvimentoDeSoftware #Inovacao #Alura\n> \n"
          },
          "metadata": {}
        },
        {
          "output_type": "stream",
          "name": "stdout",
          "text": [
            "-----------------------------------------------------\n"
          ]
        }
      ]
    }
  ]
}